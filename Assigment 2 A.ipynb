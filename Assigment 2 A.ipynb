{
 "cells": [
  {
   "cell_type": "markdown",
   "id": "4eaa79f6-0183-4c67-a454-1afd6dc24566",
   "metadata": {},
   "source": [
    "Bài 1"
   ]
  },
  {
   "cell_type": "code",
   "execution_count": 3,
   "id": "0911648e-cc41-4217-afc3-d3d03ce0e6e0",
   "metadata": {},
   "outputs": [],
   "source": [
    "x = [2,10.5,\"apple\",[1,2],True]"
   ]
  },
  {
   "cell_type": "code",
   "execution_count": 28,
   "id": "0a54e4d1-8213-4d29-9dc0-1e833282afcf",
   "metadata": {},
   "outputs": [
    {
     "name": "stdout",
     "output_type": "stream",
     "text": [
      "Phần tử thứ 3 là: apple\n",
      "<class 'list'>\n",
      "Phần tử đầu tiên là: 2\n",
      "Phần tử cuối cùng là: True\n",
      "2 phần tử đầu là : [2, 10.5]\n",
      "3 phần tử cuối là: ['apple', [1, 2], True]\n",
      "Phần tử 2 đến 4 là: [10.5, 'apple', [1, 2]]\n"
     ]
    }
   ],
   "source": [
    "print(\"Phần tử thứ 3 là:\",x[2])\n",
    "print(type(x))\n",
    "'''Không có phần tử thứ 6\n",
    "print(\"Phần tử thứ 6 là:\",x[5])'''\n",
    "print(\"Phần tử đầu tiên là:\",x[0])\n",
    "print(\"Phần tử cuối cùng là:\",x[-1])\n",
    "print(\"2 phần tử đầu là :\",x[:2])\n",
    "print(\"3 phần tử cuối là:\",x[-3:])\n",
    "print(\"Phần tử 2 đến 4 là:\",x[1:4])"
   ]
  },
  {
   "cell_type": "code",
   "execution_count": 44,
   "id": "60725538-65cd-4071-a16a-b3ffdb32aa93",
   "metadata": {},
   "outputs": [
    {
     "name": "stdout",
     "output_type": "stream",
     "text": [
      "2 có trong x\n"
     ]
    }
   ],
   "source": [
    "test=2\n",
    "if test in x :\n",
    "    print(f\"{test} có trong x\")\n",
    "else :\n",
    "    print(f\"{test} không có trong x\")"
   ]
  },
  {
   "cell_type": "code",
   "execution_count": 45,
   "id": "ded995ef-d1be-4977-aaf2-82954de0672d",
   "metadata": {},
   "outputs": [
    {
     "name": "stdout",
     "output_type": "stream",
     "text": [
      "banana không có trong x\n"
     ]
    }
   ],
   "source": [
    "test = \"banana\"\n",
    "if test in x :\n",
    "    print(f\"{test} có trong x\")\n",
    "else :\n",
    "    print(f\"{test} không có trong x\")"
   ]
  },
  {
   "cell_type": "code",
   "execution_count": 47,
   "id": "0a059da0-0b77-41e8-a221-96c7bece4cc4",
   "metadata": {},
   "outputs": [
    {
     "name": "stdout",
     "output_type": "stream",
     "text": [
      "apple có trong x\n"
     ]
    }
   ],
   "source": [
    "test = \"apple\"\n",
    "if test in x :\n",
    "    print(f\"{test} có trong x\")\n",
    "else :\n",
    "    print(f\"{test} không có trong x\")"
   ]
  },
  {
   "cell_type": "markdown",
   "id": "c649341a-4284-4618-b3b5-1f10333cef18",
   "metadata": {},
   "source": [
    "Bài 2"
   ]
  },
  {
   "cell_type": "code",
   "execution_count": 109,
   "id": "6856b26f-d27a-43cb-a43f-ffb06be0d493",
   "metadata": {},
   "outputs": [
    {
     "name": "stdout",
     "output_type": "stream",
     "text": [
      "[1, 2, 3, 4, 5, 6, 7, 8, 9, 10]\n",
      "[99, 2, 3, 4, 5, 6, 7, 8, 9, 10]\n",
      "[99, 2, 3, 4, 5, 6, 7, 8, 9]\n",
      "[4, 5, 6, 7, 8, 9]\n",
      "[4, 5, 6, 7, 'A', 'B', 'C']\n"
     ]
    }
   ],
   "source": [
    "x=[i for i in range (1,11)]\n",
    "print(x)\n",
    "x[0] = 99\n",
    "print(x)\n",
    "x.pop(-1)\n",
    "print(x)\n",
    "#Xóa 3 phần tử đầu:\n",
    "x=x[3:]\n",
    "print(x)"
   ]
  },
  {
   "cell_type": "code",
   "execution_count": 85,
   "id": "1723ce41-2a4b-4d5a-8831-8fc1b9a832c6",
   "metadata": {},
   "outputs": [
    {
     "name": "stdout",
     "output_type": "stream",
     "text": [
      "[4, 5, 6, 7, 8, 9]\n"
     ]
    }
   ],
   "source": [
    "#Xóa 3 phần tử đầu bằng cách xóa ba lần:\n",
    "for i in range(0,3):\n",
    "    x.remove(x[0])\n",
    "print(x)"
   ]
  },
  {
   "cell_type": "code",
   "execution_count": 95,
   "id": "459021e5-f71c-41f3-a53c-7f85621278e3",
   "metadata": {},
   "outputs": [
    {
     "name": "stdout",
     "output_type": "stream",
     "text": [
      "[4, 5, 6, 7, 'A', 'B', 'C']\n"
     ]
    }
   ],
   "source": [
    "x[-2:]=[\"A\", \"B\",\"C\"]\n",
    "print(x)"
   ]
  },
  {
   "cell_type": "markdown",
   "id": "679961a3-629f-449d-a99e-5c2348aef3ee",
   "metadata": {},
   "source": [
    "Bài 3 "
   ]
  },
  {
   "cell_type": "code",
   "execution_count": 107,
   "id": "441383b8-3398-459d-841b-5fd9d0526dce",
   "metadata": {},
   "outputs": [
    {
     "name": "stdout",
     "output_type": "stream",
     "text": [
      "[1, 2, 3]\n",
      "[1, 2, 3, 'A']\n",
      "[1, 2, 'B', 3, 'A']\n",
      "[1, 2, 'B', 3, 'A', 'A', 'B', 'C']\n",
      "Số phần tử của x là : 8\n"
     ]
    }
   ],
   "source": [
    "x = [1,2,3]\n",
    "print(x)\n",
    "x.append(\"A\")\n",
    "print(x)\n",
    "x.insert(2,\"B\")\n",
    "print(x)\n",
    "x.extend([\"A\",\"B\",\"C\"])\n",
    "print(x)\n",
    "print(\"Số phần tử của x là :\", len(x))"
   ]
  },
  {
   "cell_type": "markdown",
   "id": "636a9ac1-9029-422f-be01-560ce5a5e1d3",
   "metadata": {},
   "source": [
    "Bài 4 "
   ]
  },
  {
   "cell_type": "code",
   "execution_count": 31,
   "id": "318a120c-6d36-447d-bebe-62e5f3f5e5df",
   "metadata": {},
   "outputs": [
    {
     "name": "stdout",
     "output_type": "stream",
     "text": [
      "[1, -2, 0, 15, 70, 3.5]\n",
      "x đã sắp xếp asc: [-2, 0, 1, 3.5, 15, 70]\n",
      "x đã sắp xếp desc: [70, 15, 3.5, 1, 0, -2]\n",
      "x lưu thay đổi asc: [-2, 0, 1, 3.5, 15, 70]\n",
      "x lưu thay đổi desc: [70, 15, 3.5, 1, 0, -2]\n"
     ]
    }
   ],
   "source": [
    "x = [1, -2, 0, 15, 70, 3.5]\n",
    "x_asc = x.copy()\n",
    "x_desc = x.copy() \n",
    "print(x)\n",
    "print(\"x đã sắp xếp asc:\",x_asc.sort())\n",
    "print(\"x đã sắp xếp desc:\",x_desc.sort(reverse=True))\n",
    "print(\"x lưu thay đổi asc:\",x.sort())\n",
    "print(\"x lưu thay đổi desc:\",x.sort(reverse=True))"
   ]
  },
  {
   "cell_type": "markdown",
   "id": "a452e369-ca12-44f3-98d1-72e417d3e207",
   "metadata": {},
   "source": [
    "Bài 5"
   ]
  },
  {
   "cell_type": "code",
   "execution_count": 48,
   "id": "63bd70c4-0e6e-4220-9f3f-5452b54f0317",
   "metadata": {},
   "outputs": [
    {
     "name": "stdout",
     "output_type": "stream",
     "text": [
      "[-2, 0, 1, 15, 70, 'A']\n"
     ]
    }
   ],
   "source": [
    "x=[1, -2, 0, 15, 70, 'A']\n",
    "def asc_sort(f) :\n",
    "    f_int=sorted([i for i in f if type(i) is int])\n",
    "    f_str=sorted([i for i in f if type(i) is str])\n",
    "    return f_int + f_str\n",
    "print(asc_sort(x))"
   ]
  },
  {
   "cell_type": "markdown",
   "id": "1ad8db39-9e4e-446b-9630-bf11effb49de",
   "metadata": {},
   "source": [
    "Bài 6 "
   ]
  },
  {
   "cell_type": "code",
   "execution_count": 56,
   "id": "542059dd-6910-4caf-9a2d-7d87d4a486a6",
   "metadata": {},
   "outputs": [
    {
     "name": "stdout",
     "output_type": "stream",
     "text": [
      "[1, 2, 0, 10, 3]\n"
     ]
    }
   ],
   "source": [
    "x=[1, -2, 0, 10, -3]\n",
    "print([abs(i) for i in x] )"
   ]
  }
 ],
 "metadata": {
  "kernelspec": {
   "display_name": "Python 3 (ipykernel)",
   "language": "python",
   "name": "python3"
  },
  "language_info": {
   "codemirror_mode": {
    "name": "ipython",
    "version": 3
   },
   "file_extension": ".py",
   "mimetype": "text/x-python",
   "name": "python",
   "nbconvert_exporter": "python",
   "pygments_lexer": "ipython3",
   "version": "3.10.9"
  }
 },
 "nbformat": 4,
 "nbformat_minor": 5
}
