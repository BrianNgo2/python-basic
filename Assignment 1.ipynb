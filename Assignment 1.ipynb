{
 "cells": [
  {
   "cell_type": "markdown",
   "id": "c9808e34-d1f2-4d17-8d18-6824e6fe5e8f",
   "metadata": {},
   "source": [
    "Bài 1 : \n",
    "Sai vì thiếu khoảng trống sau câu điều kiện if => dùng tab hoặc space"
   ]
  },
  {
   "cell_type": "code",
   "execution_count": 57,
   "id": "a76b4f62-b78c-4dbf-868b-ff6570ef95fa",
   "metadata": {},
   "outputs": [
    {
     "name": "stdout",
     "output_type": "stream",
     "text": [
      "a > 5\n"
     ]
    }
   ],
   "source": [
    "a=19\n",
    "if a > 5 : \n",
    "    print(\"a > {}\".format(5))"
   ]
  },
  {
   "cell_type": "markdown",
   "id": "48735e9a-e39a-4c14-ab91-dd56d7cc73fd",
   "metadata": {},
   "source": [
    "Bài 2: "
   ]
  },
  {
   "cell_type": "code",
   "execution_count": 8,
   "id": "cbd6c9d0-724d-4d0d-ae22-a394eb8a3fcd",
   "metadata": {},
   "outputs": [
    {
     "name": "stdout",
     "output_type": "stream",
     "text": [
      "i am Thor , 1000  years old, from  asgard\n",
      "i am Thor,1000 years old, from asgard\n"
     ]
    }
   ],
   "source": [
    "name = 'Thor'\n",
    "age = '1000'\n",
    "place = 'asgard'\n",
    "print('i am',name,',',age,' years old, from ',place)\n",
    "print('i am {},{} years old, from {}'.format(name,age,place))"
   ]
  },
  {
   "cell_type": "markdown",
   "id": "8627fd75-99a2-4247-a888-24dbdba08a94",
   "metadata": {},
   "source": [
    "Bài 3: "
   ]
  },
  {
   "cell_type": "code",
   "execution_count": 35,
   "id": "ba63fa02-47d9-4c20-b739-0f156f2e8298",
   "metadata": {},
   "outputs": [
    {
     "name": "stdin",
     "output_type": "stream",
     "text": [
      "Nhập số lượng sản phẩm trong kho: 2\n",
      "Nhập giá gốc của sản phẩm: 4\n",
      "Nhập giá bán của sản phẩm: 5\n"
     ]
    },
    {
     "name": "stdout",
     "output_type": "stream",
     "text": [
      "Lợi nhuận: 2.0\n"
     ]
    }
   ],
   "source": [
    "quantity = input('Nhập số lượng sản phẩm trong kho:')\n",
    "unit_cost = input('Nhập giá gốc của sản phẩm:')\n",
    "unit_price = input('Nhập giá bán của sản phẩm:')\n",
    "\n",
    "quantity=float(quantity)\n",
    "unit_cost=float(unit_cost)\n",
    "unit_price=float(unit_price)\n",
    "\n",
    "\n",
    "\n",
    "print('Lợi nhuận:',quantity*unit_price-quantity*unit_cost)"
   ]
  },
  {
   "cell_type": "markdown",
   "id": "227b1b9f-69ea-4ae1-a3e6-75c64bdb6dd6",
   "metadata": {},
   "source": [
    "Bài 4:"
   ]
  },
  {
   "cell_type": "code",
   "execution_count": 36,
   "id": "44fd9fc3-816d-41a6-a372-54aecc5c9227",
   "metadata": {},
   "outputs": [
    {
     "name": "stdin",
     "output_type": "stream",
     "text": [
      "Nhập tỷ giá USD/VND: 2\n",
      "Nhập số tiền (USD): 3\n"
     ]
    },
    {
     "name": "stdout",
     "output_type": "stream",
     "text": [
      "Số tiền (VND): 6.0\n"
     ]
    }
   ],
   "source": [
    "exchange_rate = input('Nhập tỷ giá USD/VND:')\n",
    "exchange_rate = float(exchange_rate)\n",
    "amount = input('Nhập số tiền (USD):')\n",
    "amount=float(amount)\n",
    "print('Số tiền (VND):',exchange_rate*amount)\n"
   ]
  },
  {
   "cell_type": "markdown",
   "id": "ac29ea5a-2808-4b40-a941-511df6c8e793",
   "metadata": {},
   "source": [
    "Bài 5 :"
   ]
  },
  {
   "cell_type": "code",
   "execution_count": 44,
   "id": "965fc872-71a9-42bc-a07c-4f887f0245c4",
   "metadata": {},
   "outputs": [
    {
     "name": "stdin",
     "output_type": "stream",
     "text": [
      "Nhập chiều dài : 2\n",
      "Nhập chiều rộng: 4\n"
     ]
    },
    {
     "name": "stdout",
     "output_type": "stream",
     "text": [
      "Đường chéo là: 4.47\n"
     ]
    }
   ],
   "source": [
    "import math \n",
    "cd = input('Nhập chiều dài :')\n",
    "cd = float(cd)\n",
    "cr = input('Nhập chiều rộng:')\n",
    "cr = float(cr)\n",
    "\n",
    "duong_cheo = math.sqrt((cd**2+cr**2))\n",
    "duong_cheo = round(duong_cheo,2)\n",
    "print('Đường chéo là:',duong_cheo)"
   ]
  }
 ],
 "metadata": {
  "kernelspec": {
   "display_name": "Python 3 (ipykernel)",
   "language": "python",
   "name": "python3"
  },
  "language_info": {
   "codemirror_mode": {
    "name": "ipython",
    "version": 3
   },
   "file_extension": ".py",
   "mimetype": "text/x-python",
   "name": "python",
   "nbconvert_exporter": "python",
   "pygments_lexer": "ipython3",
   "version": "3.10.9"
  }
 },
 "nbformat": 4,
 "nbformat_minor": 5
}
