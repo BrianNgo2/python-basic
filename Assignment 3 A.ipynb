{
 "cells": [
  {
   "cell_type": "markdown",
   "id": "ae749ed8-5cb9-43d7-8484-f37e58f6e998",
   "metadata": {},
   "source": [
    "Bài 1 "
   ]
  },
  {
   "cell_type": "code",
   "execution_count": 110,
   "id": "1e915c0d-7842-4df3-96c9-1946de15d500",
   "metadata": {},
   "outputs": [],
   "source": [
    "s=\"This is a text string.\""
   ]
  },
  {
   "cell_type": "code",
   "execution_count": 111,
   "id": "a929499e-d6e1-48bd-9279-c5550e11acef",
   "metadata": {},
   "outputs": [
    {
     "name": "stdout",
     "output_type": "stream",
     "text": [
      "T\n"
     ]
    }
   ],
   "source": [
    "print(s[0])"
   ]
  },
  {
   "cell_type": "code",
   "execution_count": 112,
   "id": "e4562986-296e-4255-a32c-349b272f2bcf",
   "metadata": {},
   "outputs": [
    {
     "name": "stdout",
     "output_type": "stream",
     "text": [
      "ng.\n"
     ]
    }
   ],
   "source": [
    "print(s[-3:])"
   ]
  },
  {
   "cell_type": "code",
   "execution_count": 113,
   "id": "ac45b413-d37d-4ec2-a97d-c3254f6f2df3",
   "metadata": {},
   "outputs": [
    {
     "name": "stdout",
     "output_type": "stream",
     "text": [
      ".\n"
     ]
    }
   ],
   "source": [
    "print(s[-1])"
   ]
  },
  {
   "cell_type": "code",
   "execution_count": 114,
   "id": "b11310fd-43e2-464b-bad3-d747b1d9c2dd",
   "metadata": {},
   "outputs": [],
   "source": [
    "sub_s=s[5:]"
   ]
  },
  {
   "cell_type": "code",
   "execution_count": 115,
   "id": "ec31d3cc-feb9-4d71-9e45-3692bf7e81a4",
   "metadata": {},
   "outputs": [
    {
     "data": {
      "text/plain": [
       "'is a text string.'"
      ]
     },
     "execution_count": 115,
     "metadata": {},
     "output_type": "execute_result"
    }
   ],
   "source": [
    "sub_s"
   ]
  },
  {
   "cell_type": "code",
   "execution_count": 116,
   "id": "d918daa8-31fc-4b18-895e-7fe59573f674",
   "metadata": {},
   "outputs": [
    {
     "data": {
      "text/plain": [
       "'This is a text string.This is a text string.This is a text string.'"
      ]
     },
     "execution_count": 116,
     "metadata": {},
     "output_type": "execute_result"
    }
   ],
   "source": [
    "s*3"
   ]
  },
  {
   "cell_type": "code",
   "execution_count": 117,
   "id": "a55d1ce8-f82d-4153-9c49-57a0d40cef79",
   "metadata": {},
   "outputs": [
    {
     "data": {
      "text/plain": [
       "22"
      ]
     },
     "execution_count": 117,
     "metadata": {},
     "output_type": "execute_result"
    }
   ],
   "source": [
    "len(s)"
   ]
  },
  {
   "cell_type": "code",
   "execution_count": 118,
   "id": "99ca06e8-f71c-4607-b543-726be2750926",
   "metadata": {},
   "outputs": [
    {
     "data": {
      "text/plain": [
       "3"
      ]
     },
     "execution_count": 118,
     "metadata": {},
     "output_type": "execute_result"
    }
   ],
   "source": [
    "s.count('i')"
   ]
  },
  {
   "cell_type": "code",
   "execution_count": 119,
   "id": "b6968981-b749-4432-9d8a-ac97612011fa",
   "metadata": {},
   "outputs": [
    {
     "name": "stdout",
     "output_type": "stream",
     "text": [
      "his in s\n"
     ]
    }
   ],
   "source": [
    "if'his' in s :\n",
    "    print('his in s')\n",
    "else: print('his khum in s')"
   ]
  },
  {
   "cell_type": "code",
   "execution_count": 120,
   "id": "410c9a9e-a352-497f-9ada-1858a79812ec",
   "metadata": {},
   "outputs": [
    {
     "name": "stdout",
     "output_type": "stream",
     "text": [
      "'her' khum in s\n"
     ]
    }
   ],
   "source": [
    "if'her' in s :\n",
    "    print('her in s')\n",
    "else: print (\"'her' khum in s\")"
   ]
  },
  {
   "cell_type": "code",
   "execution_count": 121,
   "id": "7f5ccb7d-f7b7-4079-b53d-afa90fe04292",
   "metadata": {},
   "outputs": [
    {
     "name": "stdout",
     "output_type": "stream",
     "text": [
      "this khum in s\n"
     ]
    }
   ],
   "source": [
    "if'this' in s :\n",
    "    print('this in s')\n",
    "else: print ('this khum in s')"
   ]
  },
  {
   "cell_type": "markdown",
   "id": "f4cc71c8-89d1-4e76-b110-55c2fc2a1635",
   "metadata": {},
   "source": [
    "Bài 2"
   ]
  },
  {
   "cell_type": "code",
   "execution_count": 122,
   "id": "3dfd192d-030e-41be-a9ff-909675f1746e",
   "metadata": {},
   "outputs": [
    {
     "data": {
      "text/plain": [
       "'VNI'"
      ]
     },
     "execution_count": 122,
     "metadata": {},
     "output_type": "execute_result"
    }
   ],
   "source": [
    "s = \"VNI-ABC-20220105\"\n",
    "#Ma quoc gia\n",
    "s[:3]"
   ]
  },
  {
   "cell_type": "code",
   "execution_count": 123,
   "id": "2ee1d512-2304-4193-9914-53435e8eb6c1",
   "metadata": {},
   "outputs": [
    {
     "data": {
      "text/plain": [
       "'20220105'"
      ]
     },
     "execution_count": 123,
     "metadata": {},
     "output_type": "execute_result"
    }
   ],
   "source": [
    "#Ma ngay thang\n",
    "s[-8:]"
   ]
  },
  {
   "cell_type": "code",
   "execution_count": 124,
   "id": "731beaad-a0e6-4cea-b62e-e1002f1a191d",
   "metadata": {},
   "outputs": [
    {
     "data": {
      "text/plain": [
       "['VNI', 'ABC', '20220105']"
      ]
     },
     "execution_count": 124,
     "metadata": {},
     "output_type": "execute_result"
    }
   ],
   "source": [
    "#split \n",
    "s.split(\"-\")"
   ]
  },
  {
   "cell_type": "markdown",
   "id": "98738332-58f4-4dc2-aa28-48f7449ba458",
   "metadata": {},
   "source": [
    "Bài 3:"
   ]
  },
  {
   "cell_type": "code",
   "execution_count": 125,
   "id": "289408eb-acec-4ceb-ac50-2be1b7021e08",
   "metadata": {},
   "outputs": [],
   "source": [
    "orders = [\"VNI-ABC-20220105\", \"us-XY-20220105\", \"unknown-AADDFFXZ-20211002\"]"
   ]
  },
  {
   "cell_type": "code",
   "execution_count": 126,
   "id": "17e1fab8-6394-47d4-9cfc-5cdc35202087",
   "metadata": {},
   "outputs": [
    {
     "name": "stdout",
     "output_type": "stream",
     "text": [
      " ['VNI', 'US', 'UNKNOWN'] \n",
      " ['ABC', 'XY', 'AADDFFXZ'] \n",
      " ['20220105', '20220105', '20211002']\n"
     ]
    }
   ],
   "source": [
    "mqg=[o.upper().split(\"-\")[0] for o in orders]\n",
    "msp=[o.upper().split(\"-\")[1]for o in orders]\n",
    "mn=[o.upper().split(\"-\")[2]for o in orders]\n",
    "print(\"\",mqg,\"\\n\",msp,\"\\n\",mn)"
   ]
  },
  {
   "cell_type": "code",
   "execution_count": 127,
   "id": "c415302a-e999-41c8-9096-c6637de9a367",
   "metadata": {},
   "outputs": [
    {
     "name": "stdout",
     "output_type": "stream",
     "text": [
      "['VNI', 'US', 'UNKNOWN']\n",
      "['ABC', 'XY', 'AADDFFXZ']\n",
      "['20220105', '20220105', '20211002']\n"
     ]
    }
   ],
   "source": [
    "ma_quoc_gia = []\n",
    "ma_san_pham =[]\n",
    "ma_ngay=[]\n",
    "for order in orders :\n",
    "    ma_quoc_gia.append(order.upper().split(\"-\")[0])\n",
    "    ma_san_pham.append(order.upper().split(\"-\")[1])\n",
    "    ma_ngay.append(order.split(\"-\")[2])\n",
    "print(ma_quoc_gia)\n",
    "print(ma_san_pham)\n",
    "print(ma_ngay)"
   ]
  },
  {
   "cell_type": "markdown",
   "id": "a0dba787-80bd-47e1-81c4-355b79c12d80",
   "metadata": {},
   "source": [
    "Bài 4"
   ]
  },
  {
   "cell_type": "code",
   "execution_count": 128,
   "id": "555c3989-c157-4723-9a3d-e9e1fbe0ccc5",
   "metadata": {},
   "outputs": [
    {
     "data": {
      "text/plain": [
       "'BARACK OBAMA'"
      ]
     },
     "execution_count": 128,
     "metadata": {},
     "output_type": "execute_result"
    }
   ],
   "source": [
    "s='barack ObamA'\n",
    "s.upper()"
   ]
  },
  {
   "cell_type": "code",
   "execution_count": 129,
   "id": "65262829-5a90-47fb-9daf-f12a262b5a54",
   "metadata": {},
   "outputs": [
    {
     "data": {
      "text/plain": [
       "'barack obama'"
      ]
     },
     "execution_count": 129,
     "metadata": {},
     "output_type": "execute_result"
    }
   ],
   "source": [
    "s.lower()"
   ]
  },
  {
   "cell_type": "code",
   "execution_count": 130,
   "id": "49221435-eede-44c4-97c5-484ce0809d1c",
   "metadata": {},
   "outputs": [
    {
     "data": {
      "text/plain": [
       "'Barack Obama'"
      ]
     },
     "execution_count": 130,
     "metadata": {},
     "output_type": "execute_result"
    }
   ],
   "source": [
    "s.title()"
   ]
  },
  {
   "cell_type": "code",
   "execution_count": 131,
   "id": "d8541f03-905f-4aca-a3e7-baf2204ecae9",
   "metadata": {},
   "outputs": [
    {
     "data": {
      "text/plain": [
       "'Barack obama'"
      ]
     },
     "execution_count": 131,
     "metadata": {},
     "output_type": "execute_result"
    }
   ],
   "source": [
    "s.capitalize()"
   ]
  },
  {
   "cell_type": "markdown",
   "id": "c0bf7407-7573-4293-a652-bc550a5ec245",
   "metadata": {},
   "source": [
    "Bài 5:"
   ]
  },
  {
   "cell_type": "code",
   "execution_count": 132,
   "id": "7f55f966-71af-417d-93fc-2641ed6c1e51",
   "metadata": {},
   "outputs": [
    {
     "name": "stdout",
     "output_type": "stream",
     "text": [
      "{'math': '9', 'science': '8.5', 'spanish': '10'}\n"
     ]
    }
   ],
   "source": [
    "scores={\"math\":\"9\",\"science\":\"8.5\",\"spanish\":\"10\"}\n",
    "print(scores)"
   ]
  },
  {
   "cell_type": "code",
   "execution_count": 133,
   "id": "fc4340af-dd7a-4b56-add0-3b4d0d84a7de",
   "metadata": {},
   "outputs": [
    {
     "name": "stdout",
     "output_type": "stream",
     "text": [
      "9\n"
     ]
    }
   ],
   "source": [
    "print(scores[\"math\"])"
   ]
  },
  {
   "cell_type": "code",
   "execution_count": 134,
   "id": "12b10f0e-0fe3-4446-9c86-c74b5758968f",
   "metadata": {},
   "outputs": [
    {
     "name": "stdout",
     "output_type": "stream",
     "text": [
      "{'math': '9', 'science': 7.5, 'spanish': '10'}\n"
     ]
    }
   ],
   "source": [
    "scores[\"science\"]=7.5\n",
    "print(scores)"
   ]
  },
  {
   "cell_type": "code",
   "execution_count": 135,
   "id": "9b4ec81d-74ee-41d5-aabc-41eca071fd99",
   "metadata": {},
   "outputs": [
    {
     "name": "stdout",
     "output_type": "stream",
     "text": [
      "{'math': '9', 'science': 7.5, 'spanish': '10', 'english': 3}\n"
     ]
    }
   ],
   "source": [
    "scores[\"english\"]=3\n",
    "print(scores)"
   ]
  },
  {
   "cell_type": "code",
   "execution_count": 136,
   "id": "fe8d0e8d-b6b3-4d47-86aa-a394f528e78f",
   "metadata": {},
   "outputs": [
    {
     "name": "stdout",
     "output_type": "stream",
     "text": [
      "\"math\" is in scores\n"
     ]
    }
   ],
   "source": [
    "if \"math\" in scores:\n",
    "    print('\"math\" is in scores')\n",
    "else: print('\"math\" isnot in scores')"
   ]
  },
  {
   "cell_type": "code",
   "execution_count": 137,
   "id": "9aa55e49-091e-457e-b5aa-a2b5ecd9fa84",
   "metadata": {},
   "outputs": [
    {
     "name": "stdout",
     "output_type": "stream",
     "text": [
      "\"philosophy isnot in scores \n"
     ]
    }
   ],
   "source": [
    "if \"philosophy\" in scores:\n",
    "    print('\"philosophy is in scores')\n",
    "else: print('\"philosophy isnot in scores ' )"
   ]
  },
  {
   "cell_type": "markdown",
   "id": "999f8c60-114e-4730-bf12-08b0e0462386",
   "metadata": {},
   "source": [
    "Bài 6:"
   ]
  },
  {
   "cell_type": "code",
   "execution_count": 138,
   "id": "d02e020d-62fa-427f-a30c-a5953ea96c94",
   "metadata": {},
   "outputs": [],
   "source": [
    "import pandas as pd\n",
    "bonus=pd.Series([3, 4, 7, 5, 8, 9, 5, 4, 4, 5, 4, 3])"
   ]
  },
  {
   "cell_type": "code",
   "execution_count": 139,
   "id": "62deae91-c39d-47b7-b3d5-aaf1c352fca8",
   "metadata": {},
   "outputs": [
    {
     "name": "stdout",
     "output_type": "stream",
     "text": [
      "12\n"
     ]
    }
   ],
   "source": [
    "print(len(bonus))"
   ]
  },
  {
   "cell_type": "code",
   "execution_count": 140,
   "id": "4ccad538-48c8-4afd-b00e-37389678e7d8",
   "metadata": {},
   "outputs": [
    {
     "data": {
      "text/plain": [
       "61"
      ]
     },
     "execution_count": 140,
     "metadata": {},
     "output_type": "execute_result"
    }
   ],
   "source": [
    "bonus.sum()"
   ]
  },
  {
   "cell_type": "code",
   "execution_count": 141,
   "id": "077e3e28-af80-4488-aaf3-3c9a72c9ee7a",
   "metadata": {},
   "outputs": [
    {
     "data": {
      "text/plain": [
       "5.08"
      ]
     },
     "execution_count": 141,
     "metadata": {},
     "output_type": "execute_result"
    }
   ],
   "source": [
    "round(bonus.mean(),2)"
   ]
  },
  {
   "cell_type": "code",
   "execution_count": 142,
   "id": "c9128825-c2e8-4cd7-921b-51baa7708077",
   "metadata": {},
   "outputs": [
    {
     "data": {
      "text/plain": [
       "9"
      ]
     },
     "execution_count": 142,
     "metadata": {},
     "output_type": "execute_result"
    }
   ],
   "source": [
    "bonus.max()"
   ]
  },
  {
   "cell_type": "code",
   "execution_count": 143,
   "id": "800a918c-4c94-4d9f-8c79-d6a780b9c88e",
   "metadata": {},
   "outputs": [
    {
     "data": {
      "text/plain": [
       "3"
      ]
     },
     "execution_count": 143,
     "metadata": {},
     "output_type": "execute_result"
    }
   ],
   "source": [
    "bonus.min()"
   ]
  },
  {
   "cell_type": "code",
   "execution_count": 144,
   "id": "7decca06-f3b1-4447-8f67-3172df43c53a",
   "metadata": {},
   "outputs": [
    {
     "name": "stdout",
     "output_type": "stream",
     "text": [
      "0     3\n",
      "1     4\n",
      "2     7\n",
      "3     5\n",
      "4     8\n",
      "5     9\n",
      "6     5\n",
      "7     4\n",
      "8     4\n",
      "9     5\n",
      "10    4\n",
      "11    3\n",
      "dtype: int64\n"
     ]
    }
   ],
   "source": [
    "bonus*1.3\n",
    "print(bonus)"
   ]
  },
  {
   "cell_type": "code",
   "execution_count": 145,
   "id": "c0ede60f-e9e3-43da-a2e2-8efc5977d004",
   "metadata": {},
   "outputs": [
    {
     "data": {
      "text/plain": [
       "4    4\n",
       "5    3\n",
       "3    2\n",
       "7    1\n",
       "8    1\n",
       "9    1\n",
       "dtype: int64"
      ]
     },
     "execution_count": 145,
     "metadata": {},
     "output_type": "execute_result"
    }
   ],
   "source": [
    "bonus_count=bonus.value_counts()\n",
    "bonus_count.sort_values(ascending=False)"
   ]
  },
  {
   "cell_type": "code",
   "execution_count": 146,
   "id": "a12dde1c-f976-4693-a047-afd0bab856bd",
   "metadata": {},
   "outputs": [
    {
     "data": {
      "text/plain": [
       "9    1\n",
       "8    1\n",
       "7    1\n",
       "5    3\n",
       "4    4\n",
       "3    2\n",
       "dtype: int64"
      ]
     },
     "execution_count": 146,
     "metadata": {},
     "output_type": "execute_result"
    }
   ],
   "source": [
    "bonus_count.sort_index(ascending=False)"
   ]
  }
 ],
 "metadata": {
  "kernelspec": {
   "display_name": "Python 3 (ipykernel)",
   "language": "python",
   "name": "python3"
  },
  "language_info": {
   "codemirror_mode": {
    "name": "ipython",
    "version": 3
   },
   "file_extension": ".py",
   "mimetype": "text/x-python",
   "name": "python",
   "nbconvert_exporter": "python",
   "pygments_lexer": "ipython3",
   "version": "3.10.9"
  }
 },
 "nbformat": 4,
 "nbformat_minor": 5
}
