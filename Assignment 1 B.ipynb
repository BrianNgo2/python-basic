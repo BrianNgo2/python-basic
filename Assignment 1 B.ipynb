{
 "cells": [
  {
   "cell_type": "markdown",
   "id": "deba3a5d-d600-4001-b1fd-7c4702afe83e",
   "metadata": {},
   "source": [
    "Bài 1:\n",
    "cần thêm điều kiện nhập là số nguyên"
   ]
  },
  {
   "cell_type": "code",
   "execution_count": 8,
   "id": "7be30b85-8e4d-497a-b1df-8ab778ae3ace",
   "metadata": {},
   "outputs": [
    {
     "name": "stdin",
     "output_type": "stream",
     "text": [
      "Nhập số nguyên 2\n"
     ]
    },
    {
     "name": "stdout",
     "output_type": "stream",
     "text": [
      "a là số chẵn\n"
     ]
    }
   ],
   "source": [
    "a = input('Nhập số nguyên')\n",
    "a = int(a)\n",
    "if a % 2 == 0:\n",
    "    print('a là số chẵn')\n",
    "else: print(' a là số lẻ')"
   ]
  },
  {
   "cell_type": "markdown",
   "id": "c4b47558-f166-40e2-a15a-ff884de2a0c6",
   "metadata": {},
   "source": [
    "Bài 2:\n",
    "Cần thêm:\n",
    "lọc dấu cách ở full name"
   ]
  },
  {
   "cell_type": "code",
   "execution_count": 12,
   "id": "0594f6ef-6df3-4149-ae91-54554bfe0d41",
   "metadata": {},
   "outputs": [
    {
     "name": "stdin",
     "output_type": "stream",
     "text": [
      "Nhập tên của bạn  d\n",
      "Nhập họ của bạn  f\n"
     ]
    },
    {
     "name": "stdout",
     "output_type": "stream",
     "text": [
      "Full name: d f\n"
     ]
    }
   ],
   "source": [
    "first_name = input('Nhập tên của bạn ')\n",
    "last_name = input('Nhập họ của bạn ')\n",
    "\n",
    "full_name = first_name +\" \"+ last_name\n",
    "\n",
    "print('Full name:',full_name)"
   ]
  },
  {
   "cell_type": "markdown",
   "id": "60d2c561-0b45-43da-bcca-020594820501",
   "metadata": {},
   "source": [
    "Bài 3: Thêm điều kiện input"
   ]
  },
  {
   "cell_type": "code",
   "execution_count": 18,
   "id": "bede3542-74b4-4d90-8440-55cc8f572f04",
   "metadata": {},
   "outputs": [
    {
     "name": "stdin",
     "output_type": "stream",
     "text": [
      "Nhập chiều dài hình chữ nhật: 3\n",
      "Nhập chiều rộng hình chữ nhật: 4\n"
     ]
    },
    {
     "name": "stdout",
     "output_type": "stream",
     "text": [
      "Chu vi hình chữ nhật là: 14.0\n",
      "Diện tích hình chữ nhật là: 12.0\n"
     ]
    }
   ],
   "source": [
    "cd = input('Nhập chiều dài hình chữ nhật:')\n",
    "cd = float(cd)\n",
    "cr = input('Nhập chiều rộng hình chữ nhật:')\n",
    "cr = float(cr)\n",
    "\n",
    "print('Chu vi hình chữ nhật là:',(cr+cd)*2)\n",
    "print('Diện tích hình chữ nhật là:',(cr*cd))"
   ]
  },
  {
   "cell_type": "markdown",
   "id": "ac678ebe-3b6c-498b-bee3-198c7c2d2c28",
   "metadata": {},
   "source": [
    "Bài 4:\n",
    "cần phần trăm"
   ]
  },
  {
   "cell_type": "code",
   "execution_count": 1,
   "id": "3bd7acb7-cca9-498e-adc4-c452d7343d6f",
   "metadata": {},
   "outputs": [
    {
     "name": "stdout",
     "output_type": "stream",
     "text": [
      "Số tiền nam nhận được là: 265.33\n"
     ]
    }
   ],
   "source": [
    "amount = 100\n",
    "interest_rate = 0.05\n",
    "t = 20\n",
    "\n",
    "after_amount= amount*((1+interest_rate)**20)\n",
    "\n",
    "print('Số tiền nam nhận được là:',round(after_amount,2))"
   ]
  },
  {
   "cell_type": "code",
   "execution_count": null,
   "id": "5e93ed13-4127-4b40-a1e3-cc1642bd5831",
   "metadata": {},
   "outputs": [],
   "source": []
  }
 ],
 "metadata": {
  "kernelspec": {
   "display_name": "Python 3 (ipykernel)",
   "language": "python",
   "name": "python3"
  },
  "language_info": {
   "codemirror_mode": {
    "name": "ipython",
    "version": 3
   },
   "file_extension": ".py",
   "mimetype": "text/x-python",
   "name": "python",
   "nbconvert_exporter": "python",
   "pygments_lexer": "ipython3",
   "version": "3.10.9"
  }
 },
 "nbformat": 4,
 "nbformat_minor": 5
}
