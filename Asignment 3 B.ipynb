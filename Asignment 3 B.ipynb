{
 "cells": [
  {
   "cell_type": "markdown",
   "id": "072fdd51-4883-4890-86f5-bbfb214ee297",
   "metadata": {},
   "source": [
    "Bài 1:"
   ]
  },
  {
   "cell_type": "code",
   "execution_count": 1,
   "id": "dbd534e8-0b19-402f-80cb-813455d860d2",
   "metadata": {},
   "outputs": [],
   "source": [
    "s='barack ObamA'"
   ]
  },
  {
   "cell_type": "code",
   "execution_count": 3,
   "id": "1f6d3481-ab74-457e-8b2b-94c477ca67c9",
   "metadata": {},
   "outputs": [
    {
     "data": {
      "text/plain": [
       "'barack ObamA'"
      ]
     },
     "execution_count": 3,
     "metadata": {},
     "output_type": "execute_result"
    }
   ],
   "source": [
    "s"
   ]
  },
  {
   "cell_type": "code",
   "execution_count": 9,
   "id": "f18afca9-d8a7-452b-bb94-4a5e98ec3a10",
   "metadata": {},
   "outputs": [
    {
     "data": {
      "text/plain": [
       "True"
      ]
     },
     "execution_count": 9,
     "metadata": {},
     "output_type": "execute_result"
    }
   ],
   "source": [
    "s[0:len('b')]=='b'"
   ]
  },
  {
   "cell_type": "code",
   "execution_count": 11,
   "id": "b2f425e2-6e2b-4ed5-bf5c-77b5def9e8f9",
   "metadata": {},
   "outputs": [
    {
     "data": {
      "text/plain": [
       "False"
      ]
     },
     "execution_count": 11,
     "metadata": {},
     "output_type": "execute_result"
    }
   ],
   "source": [
    "s[0:len('B')]=='B'"
   ]
  },
  {
   "cell_type": "code",
   "execution_count": 14,
   "id": "61cd60ff-1a9d-4556-b82f-003f30ec38d4",
   "metadata": {},
   "outputs": [
    {
     "data": {
      "text/plain": [
       "False"
      ]
     },
     "execution_count": 14,
     "metadata": {},
     "output_type": "execute_result"
    }
   ],
   "source": [
    "s[-len('a'):]=='a'"
   ]
  },
  {
   "cell_type": "code",
   "execution_count": 16,
   "id": "c3177f9b-e29d-4af9-ac3f-371ad7442738",
   "metadata": {},
   "outputs": [
    {
     "data": {
      "text/plain": [
       "True"
      ]
     },
     "execution_count": 16,
     "metadata": {},
     "output_type": "execute_result"
    }
   ],
   "source": [
    "s[-len('A'):]=='A'"
   ]
  },
  {
   "cell_type": "code",
   "execution_count": 18,
   "id": "ae154d45-4cfe-413c-aa65-39b7e7dda32d",
   "metadata": {},
   "outputs": [
    {
     "data": {
      "text/plain": [
       "False"
      ]
     },
     "execution_count": 18,
     "metadata": {},
     "output_type": "execute_result"
    }
   ],
   "source": [
    "'oba' in s"
   ]
  },
  {
   "cell_type": "code",
   "execution_count": 19,
   "id": "5fe85685-eada-4888-b10c-8c6af4e82928",
   "metadata": {},
   "outputs": [
    {
     "data": {
      "text/plain": [
       "True"
      ]
     },
     "execution_count": 19,
     "metadata": {},
     "output_type": "execute_result"
    }
   ],
   "source": [
    "'Oba' in s"
   ]
  },
  {
   "cell_type": "code",
   "execution_count": 23,
   "id": "4da19aa7-d9ab-4c4e-8026-35fc328f8c0a",
   "metadata": {},
   "outputs": [
    {
     "data": {
      "text/plain": [
       "True"
      ]
     },
     "execution_count": 23,
     "metadata": {},
     "output_type": "execute_result"
    }
   ],
   "source": [
    "'obama'in s.lower()"
   ]
  },
  {
   "cell_type": "markdown",
   "id": "95195c7f-4c77-4cff-be55-7660793cb42f",
   "metadata": {},
   "source": [
    "bài 2:"
   ]
  },
  {
   "cell_type": "code",
   "execution_count": 24,
   "id": "8761a0df-167c-4f4d-807c-bf8b3467955a",
   "metadata": {},
   "outputs": [],
   "source": [
    "s='I am handsome. LOL.'"
   ]
  },
  {
   "cell_type": "code",
   "execution_count": 26,
   "id": "0ef6f850-8cb8-4a25-9acc-e6a19d8d3bd6",
   "metadata": {},
   "outputs": [
    {
     "data": {
      "text/plain": [
       "3"
      ]
     },
     "execution_count": 26,
     "metadata": {},
     "output_type": "execute_result"
    }
   ],
   "source": [
    "s.count(\" \")"
   ]
  },
  {
   "cell_type": "code",
   "execution_count": 30,
   "id": "7a2e98c3-4b63-4ab5-af02-a5f3f61234a5",
   "metadata": {},
   "outputs": [
    {
     "data": {
      "text/plain": [
       "4"
      ]
     },
     "execution_count": 30,
     "metadata": {},
     "output_type": "execute_result"
    }
   ],
   "source": [
    "count_upper = sum(1 for i in s if i.isupper())\n",
    "count_upper"
   ]
  },
  {
   "cell_type": "markdown",
   "id": "84478920-9bfa-417b-8f14-4458636cd6f2",
   "metadata": {},
   "source": [
    "Bài 3 :"
   ]
  },
  {
   "cell_type": "code",
   "execution_count": 31,
   "id": "cfae96bc-81c1-4812-8ad0-88a821113ca0",
   "metadata": {},
   "outputs": [],
   "source": [
    "s='Donald Trump'"
   ]
  },
  {
   "cell_type": "code",
   "execution_count": 36,
   "id": "a3228666-2f28-4b29-a924-d383577bf6f0",
   "metadata": {},
   "outputs": [
    {
     "data": {
      "text/plain": [
       "('Donald', 'Trump')"
      ]
     },
     "execution_count": 36,
     "metadata": {},
     "output_type": "execute_result"
    }
   ],
   "source": [
    "names=tuple(s.split(\" \"))\n",
    "names"
   ]
  },
  {
   "cell_type": "code",
   "execution_count": 39,
   "id": "f7ce63a8-0f74-4856-b193-70668b4ebdb7",
   "metadata": {},
   "outputs": [
    {
     "name": "stdout",
     "output_type": "stream",
     "text": [
      "Donald Trump\n"
     ]
    }
   ],
   "source": [
    "fn,ln=names\n",
    "print(fn,ln)"
   ]
  },
  {
   "cell_type": "markdown",
   "id": "34d5c802-818c-4701-a88a-36d6270df2ee",
   "metadata": {},
   "source": [
    "Bài 4"
   ]
  },
  {
   "cell_type": "code",
   "execution_count": 40,
   "id": "ce0c2eef-4caa-446c-bed1-4b3198c7c304",
   "metadata": {},
   "outputs": [],
   "source": [
    "s='I am in love with Python.'"
   ]
  },
  {
   "cell_type": "code",
   "execution_count": 42,
   "id": "254cdfe6-a7f9-45a7-bb8a-dbca43874af0",
   "metadata": {},
   "outputs": [
    {
     "data": {
      "text/plain": [
       "6"
      ]
     },
     "execution_count": 42,
     "metadata": {},
     "output_type": "execute_result"
    }
   ],
   "source": [
    "no_word=s.count(\" \")+1\n",
    "no_word"
   ]
  },
  {
   "cell_type": "markdown",
   "id": "c2d40f3a-5c2d-405f-8ea6-451008fe7f55",
   "metadata": {},
   "source": [
    "Bài 5:"
   ]
  },
  {
   "cell_type": "code",
   "execution_count": 43,
   "id": "47ef01c6-6fc6-4244-83be-7017058b56ae",
   "metadata": {},
   "outputs": [],
   "source": [
    "s='   Hello. Have a good day.     '"
   ]
  },
  {
   "cell_type": "code",
   "execution_count": 45,
   "id": "2326ad6e-32d5-40aa-90e2-b92fecbe156f",
   "metadata": {},
   "outputs": [
    {
     "data": {
      "text/plain": [
       "'Hello. Have a good day.     '"
      ]
     },
     "execution_count": 45,
     "metadata": {},
     "output_type": "execute_result"
    }
   ],
   "source": [
    "s.lstrip()"
   ]
  },
  {
   "cell_type": "code",
   "execution_count": 46,
   "id": "c610c1e0-a531-4c8d-ba99-9741258fc75a",
   "metadata": {},
   "outputs": [
    {
     "data": {
      "text/plain": [
       "'   Hello. Have a good day.'"
      ]
     },
     "execution_count": 46,
     "metadata": {},
     "output_type": "execute_result"
    }
   ],
   "source": [
    "s.rstrip()"
   ]
  },
  {
   "cell_type": "code",
   "execution_count": 49,
   "id": "5fc31672-705f-46da-b0a1-f1e42edf8dc8",
   "metadata": {},
   "outputs": [
    {
     "data": {
      "text/plain": [
       "'Hello. Have a good day.'"
      ]
     },
     "execution_count": 49,
     "metadata": {},
     "output_type": "execute_result"
    }
   ],
   "source": [
    "s.strip()"
   ]
  },
  {
   "cell_type": "code",
   "execution_count": 52,
   "id": "58499cd2-9490-44e7-9641-f416eddb06c3",
   "metadata": {},
   "outputs": [
    {
     "data": {
      "text/plain": [
       "'Hello.Haveagoodday.'"
      ]
     },
     "execution_count": 52,
     "metadata": {},
     "output_type": "execute_result"
    }
   ],
   "source": [
    "s.replace(\" \",'')"
   ]
  },
  {
   "cell_type": "markdown",
   "id": "7d225cf2-8e32-4996-aa46-dcd9cb8af623",
   "metadata": {},
   "source": [
    "Bài 6"
   ]
  },
  {
   "cell_type": "code",
   "execution_count": 53,
   "id": "eb3270af-c563-4bb5-9e51-61a62cfc67d7",
   "metadata": {},
   "outputs": [],
   "source": [
    "s={1,2,3}"
   ]
  },
  {
   "cell_type": "code",
   "execution_count": 55,
   "id": "fa43918c-6b63-4e83-9367-5b7bcee5a617",
   "metadata": {},
   "outputs": [],
   "source": [
    "s.add(99)"
   ]
  },
  {
   "cell_type": "code",
   "execution_count": 56,
   "id": "2f4db208-d70a-4980-868b-72a3c1891d8e",
   "metadata": {},
   "outputs": [
    {
     "data": {
      "text/plain": [
       "{1, 2, 3, 99}"
      ]
     },
     "execution_count": 56,
     "metadata": {},
     "output_type": "execute_result"
    }
   ],
   "source": [
    "s"
   ]
  },
  {
   "cell_type": "code",
   "execution_count": 57,
   "id": "87329ae4-9d3f-432f-b2d3-2c4c45c639ad",
   "metadata": {},
   "outputs": [],
   "source": [
    "s.discard(2)"
   ]
  },
  {
   "cell_type": "code",
   "execution_count": 58,
   "id": "61a06f46-2dcd-46bf-9488-9ffa92af917e",
   "metadata": {},
   "outputs": [
    {
     "data": {
      "text/plain": [
       "{1, 3, 99}"
      ]
     },
     "execution_count": 58,
     "metadata": {},
     "output_type": "execute_result"
    }
   ],
   "source": [
    "s"
   ]
  },
  {
   "cell_type": "code",
   "execution_count": 61,
   "id": "6b2ae7fd-c395-42a6-aa6f-43b34df2c3a0",
   "metadata": {},
   "outputs": [],
   "source": [
    "s.update({20,45,30})"
   ]
  },
  {
   "cell_type": "code",
   "execution_count": 62,
   "id": "599e97d3-0d70-4093-8715-0faee00aee69",
   "metadata": {},
   "outputs": [
    {
     "data": {
      "text/plain": [
       "{1, 3, 20, 30, 45, 99}"
      ]
     },
     "execution_count": 62,
     "metadata": {},
     "output_type": "execute_result"
    }
   ],
   "source": [
    "s"
   ]
  },
  {
   "cell_type": "markdown",
   "id": "b8ed5374-9d0b-4afe-a799-98ea9dabdd61",
   "metadata": {},
   "source": [
    "Bài 7"
   ]
  },
  {
   "cell_type": "code",
   "execution_count": 89,
   "id": "cb5dee52-aa07-4966-996c-0c272cb4cb98",
   "metadata": {},
   "outputs": [],
   "source": [
    "s_1 = {1,2,3,5}\n",
    "s_2 = {1,3,10,99}\n",
    "s_3 = {1,3}"
   ]
  },
  {
   "cell_type": "code",
   "execution_count": 91,
   "id": "09b46a11-1b01-4fa5-87fd-ad1f2bb59e98",
   "metadata": {},
   "outputs": [
    {
     "data": {
      "text/plain": [
       "{1, 2, 3, 5, 10, 99}"
      ]
     },
     "execution_count": 91,
     "metadata": {},
     "output_type": "execute_result"
    }
   ],
   "source": [
    "s_1|s_2"
   ]
  },
  {
   "cell_type": "code",
   "execution_count": 93,
   "id": "9bec11f2-edfd-4d74-a760-0addbca43d99",
   "metadata": {},
   "outputs": [
    {
     "data": {
      "text/plain": [
       "{1, 3}"
      ]
     },
     "execution_count": 93,
     "metadata": {},
     "output_type": "execute_result"
    }
   ],
   "source": [
    "s_1&s_2"
   ]
  },
  {
   "cell_type": "code",
   "execution_count": 94,
   "id": "33889251-b759-47bb-b7d3-c126659d1926",
   "metadata": {},
   "outputs": [
    {
     "data": {
      "text/plain": [
       "{2, 5}"
      ]
     },
     "execution_count": 94,
     "metadata": {},
     "output_type": "execute_result"
    }
   ],
   "source": [
    "s_1-s_2"
   ]
  },
  {
   "cell_type": "code",
   "execution_count": 99,
   "id": "73dd0f97-07f0-4af7-b289-4b75bd9580a8",
   "metadata": {},
   "outputs": [
    {
     "data": {
      "text/plain": [
       "False"
      ]
     },
     "execution_count": 99,
     "metadata": {},
     "output_type": "execute_result"
    }
   ],
   "source": [
    "s_2.issubset(s_1)"
   ]
  },
  {
   "cell_type": "code",
   "execution_count": 100,
   "id": "dd9bb0db-81e6-4928-873d-4d28cae47e54",
   "metadata": {},
   "outputs": [
    {
     "data": {
      "text/plain": [
       "True"
      ]
     },
     "execution_count": 100,
     "metadata": {},
     "output_type": "execute_result"
    }
   ],
   "source": [
    "s_3.issubset(s_1)"
   ]
  }
 ],
 "metadata": {
  "kernelspec": {
   "display_name": "Python 3 (ipykernel)",
   "language": "python",
   "name": "python3"
  },
  "language_info": {
   "codemirror_mode": {
    "name": "ipython",
    "version": 3
   },
   "file_extension": ".py",
   "mimetype": "text/x-python",
   "name": "python",
   "nbconvert_exporter": "python",
   "pygments_lexer": "ipython3",
   "version": "3.10.9"
  }
 },
 "nbformat": 4,
 "nbformat_minor": 5
}
