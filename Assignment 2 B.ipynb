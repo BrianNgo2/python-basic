{
 "cells": [
  {
   "cell_type": "markdown",
   "id": "cc081223-c273-45d8-9c9a-9e590ae94aa9",
   "metadata": {},
   "source": [
    "Bài 1"
   ]
  },
  {
   "cell_type": "code",
   "execution_count": 19,
   "id": "d6406f45-ebe9-40ff-bdd6-bd6fd76b3619",
   "metadata": {},
   "outputs": [
    {
     "data": {
      "text/plain": [
       "(99, -2, 35, 40, 10.5)"
      ]
     },
     "execution_count": 19,
     "metadata": {},
     "output_type": "execute_result"
    }
   ],
   "source": [
    "t=(1, -2, 35, 40, 10.5)\n",
    "t=list(t)\n",
    "t[0]=99\n",
    "tuple(t)\n"
   ]
  },
  {
   "cell_type": "code",
   "execution_count": 18,
   "id": "12cb8787-9478-46f3-b99c-853b4ff2a3c0",
   "metadata": {},
   "outputs": [
    {
     "data": {
      "text/plain": [
       "(-2, 10.5, 35, 40, 99)"
      ]
     },
     "execution_count": 18,
     "metadata": {},
     "output_type": "execute_result"
    }
   ],
   "source": [
    "t_asc=sorted(t)\n",
    "tuple(t_asc)"
   ]
  },
  {
   "cell_type": "code",
   "execution_count": 22,
   "id": "48a4ee1d-0969-469d-b34a-2ab04b473dbb",
   "metadata": {},
   "outputs": [
    {
     "data": {
      "text/plain": [
       "(99, 40, 35, 10.5, -2)"
      ]
     },
     "execution_count": 22,
     "metadata": {},
     "output_type": "execute_result"
    }
   ],
   "source": [
    "t_desc=sorted(t,reverse=True)\n",
    "tuple(t_desc)"
   ]
  },
  {
   "cell_type": "markdown",
   "id": "03847b36-a4c5-4571-af8b-5ad4985df2ad",
   "metadata": {},
   "source": [
    "Bài 2"
   ]
  },
  {
   "cell_type": "code",
   "execution_count": 24,
   "id": "420fdb6e-3744-4941-938d-75cac086c0e4",
   "metadata": {},
   "outputs": [
    {
     "data": {
      "text/plain": [
       "210"
      ]
     },
     "execution_count": 24,
     "metadata": {},
     "output_type": "execute_result"
    }
   ],
   "source": [
    "sum = 0 \n",
    "for i in range(0,21):\n",
    "    sum += i\n",
    "sum"
   ]
  },
  {
   "cell_type": "markdown",
   "id": "59530fa9-7069-4555-b8b7-57d7cfc43b3f",
   "metadata": {},
   "source": [
    "Bài 3"
   ]
  },
  {
   "cell_type": "code",
   "execution_count": 34,
   "id": "c532085e-4649-4b3b-869c-090b0f46b968",
   "metadata": {},
   "outputs": [
    {
     "name": "stdout",
     "output_type": "stream",
     "text": [
      "tổng 50 số lẻ dương đầu tiên: 2500\n",
      "tổng 50 số chẵn dương đầu tiên: 2550\n"
     ]
    }
   ],
   "source": [
    "even_sum = 0\n",
    "odd_sum = 0\n",
    "for i in range (1,101):\n",
    "    if i % 2 == 1:\n",
    "        odd_sum += i\n",
    "    else :\n",
    "        even_sum += i\n",
    "print(\"tổng 50 số lẻ dương đầu tiên:\",odd_sum)\n",
    "print(\"tổng 50 số chẵn dương đầu tiên:\",even_sum)"
   ]
  },
  {
   "cell_type": "markdown",
   "id": "9e44a752-2cb1-4637-aeef-487de2e47c19",
   "metadata": {},
   "source": [
    "Bài 4"
   ]
  },
  {
   "cell_type": "code",
   "execution_count": 46,
   "id": "4fc6bbc7-5fd6-4b4a-b7dd-dbce12e7f065",
   "metadata": {},
   "outputs": [
    {
     "name": "stdout",
     "output_type": "stream",
     "text": [
      "Điểm lấy nguyên là: [10, 7, 8, 5, 7, 3, 6, 4, 2]\n",
      "Các điểm qua môn là : [10, 7.25, 8.71, 5.25, 7.25, 6.5, 4]\n",
      "Các điểm trượt môn là: [3.75, 2.5]\n"
     ]
    }
   ],
   "source": [
    "import math as m\n",
    "scores = [10, 7.25, 8.71, 5.25, 7.25, 3.75, 6.5, 4,2.5]\n",
    "scores_2 = [m.floor(i) for i in scores]\n",
    "print(\"Điểm lấy nguyên là:\",scores_2)\n",
    "scores_passed = [ i for i in scores if i >= 4 ]\n",
    "print(\"Các điểm qua môn là :\",scores_passed)\n",
    "scores_failed = [ i for i in scores if i < 4 ]\n",
    "print(\"Các điểm trượt môn là:\",scores_failed)"
   ]
  },
  {
   "cell_type": "code",
   "execution_count": 52,
   "id": "47f2d89f-be6a-40f4-8c3c-9a53e8235199",
   "metadata": {},
   "outputs": [
    {
     "name": "stdout",
     "output_type": "stream",
     "text": [
      "Điểm trung bình qua môn là:  6.99\n",
      "Điểm trung bình trượt môn là:  3.12\n"
     ]
    }
   ],
   "source": [
    "import statistics as s\n",
    "print(\"Điểm trung bình qua môn là: \", round(s.mean(scores_passed),2))\n",
    "print(\"Điểm trung bình trượt môn là: \", round(s.mean(scores_failed),2))"
   ]
  }
 ],
 "metadata": {
  "kernelspec": {
   "display_name": "Python 3 (ipykernel)",
   "language": "python",
   "name": "python3"
  },
  "language_info": {
   "codemirror_mode": {
    "name": "ipython",
    "version": 3
   },
   "file_extension": ".py",
   "mimetype": "text/x-python",
   "name": "python",
   "nbconvert_exporter": "python",
   "pygments_lexer": "ipython3",
   "version": "3.10.9"
  }
 },
 "nbformat": 4,
 "nbformat_minor": 5
}
