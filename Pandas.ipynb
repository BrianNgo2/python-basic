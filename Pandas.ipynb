{
 "cells": [
  {
   "cell_type": "code",
   "execution_count": 6,
   "id": "43a5ed26-0a40-4fd3-96a3-77f1916a80d9",
   "metadata": {},
   "outputs": [],
   "source": [
    "import matplotlib.pyplot as plt\n",
    "import pandas as pd\n",
    "import numpy as np"
   ]
  },
  {
   "cell_type": "code",
   "execution_count": 23,
   "id": "093060b2-b864-49e7-8a84-6d192ee177af",
   "metadata": {},
   "outputs": [],
   "source": [
    "s=pd.Series([1,2,10])"
   ]
  },
  {
   "cell_type": "code",
   "execution_count": 26,
   "id": "853dbb7c-759b-43af-9a06-bd95f85808d4",
   "metadata": {},
   "outputs": [
    {
     "data": {
      "text/plain": [
       "0     1\n",
       "1     2\n",
       "2    10\n",
       "dtype: int64"
      ]
     },
     "execution_count": 26,
     "metadata": {},
     "output_type": "execute_result"
    }
   ],
   "source": [
    "s"
   ]
  },
  {
   "cell_type": "code",
   "execution_count": 19,
   "id": "db9aa8df-07d5-4038-b8ed-384c143304e9",
   "metadata": {},
   "outputs": [
    {
     "data": {
      "text/plain": [
       "dtype('int64')"
      ]
     },
     "execution_count": 19,
     "metadata": {},
     "output_type": "execute_result"
    }
   ],
   "source": [
    "s.dtype"
   ]
  },
  {
   "cell_type": "code",
   "execution_count": 21,
   "id": "de913986-c5b5-49de-bf35-e808a8c8340c",
   "metadata": {},
   "outputs": [
    {
     "data": {
      "text/plain": [
       "pandas.core.series.Series"
      ]
     },
     "execution_count": 21,
     "metadata": {},
     "output_type": "execute_result"
    }
   ],
   "source": [
    "type(s)"
   ]
  },
  {
   "cell_type": "code",
   "execution_count": 28,
   "id": "998e4580-6824-4fb0-9c36-006afe97fecd",
   "metadata": {},
   "outputs": [
    {
     "data": {
      "text/plain": [
       "RangeIndex(start=0, stop=3, step=1)"
      ]
     },
     "execution_count": 28,
     "metadata": {},
     "output_type": "execute_result"
    }
   ],
   "source": [
    "s.index"
   ]
  },
  {
   "cell_type": "code",
   "execution_count": 30,
   "id": "d7c4675b-c86d-4ecf-aa74-fba3e3de71a9",
   "metadata": {},
   "outputs": [
    {
     "data": {
      "text/plain": [
       "array([ 1,  2, 10], dtype=int64)"
      ]
     },
     "execution_count": 30,
     "metadata": {},
     "output_type": "execute_result"
    }
   ],
   "source": [
    "s.values"
   ]
  },
  {
   "cell_type": "code",
   "execution_count": 31,
   "id": "53cf97c7-0cf2-4471-8037-94f0416d2634",
   "metadata": {},
   "outputs": [
    {
     "data": {
      "text/plain": [
       "10"
      ]
     },
     "execution_count": 31,
     "metadata": {},
     "output_type": "execute_result"
    }
   ],
   "source": [
    "s.iloc[2]"
   ]
  },
  {
   "cell_type": "code",
   "execution_count": 34,
   "id": "e1b73dd6-09fa-4f7e-9b44-edfdf42677a0",
   "metadata": {},
   "outputs": [
    {
     "data": {
      "text/plain": [
       "ca     1\n",
       "tom    2\n",
       "cua    3\n",
       "dtype: int64"
      ]
     },
     "execution_count": 34,
     "metadata": {},
     "output_type": "execute_result"
    }
   ],
   "source": [
    "ct=pd.Series([1,2,3],index=[\"ca\",\"tom\",\"cua\"])\n",
    "ct"
   ]
  },
  {
   "cell_type": "code",
   "execution_count": 39,
   "id": "f9585539-4a4f-4c18-afac-c31bc3720097",
   "metadata": {},
   "outputs": [
    {
     "data": {
      "text/plain": [
       "ca     1\n",
       "tom    2\n",
       "cua    3\n",
       "dtype: int64"
      ]
     },
     "execution_count": 39,
     "metadata": {},
     "output_type": "execute_result"
    }
   ],
   "source": [
    "ct.loc[\"ca\":]"
   ]
  },
  {
   "cell_type": "code",
   "execution_count": 40,
   "id": "37403977-1ef1-4237-aa1f-2ec7d6218f04",
   "metadata": {},
   "outputs": [],
   "source": [
    "s = pd.Series([1, 2, -5, 4, 0, np.nan, -7, 9, -3, -3, np.nan])\n"
   ]
  },
  {
   "cell_type": "code",
   "execution_count": 41,
   "id": "807eb851-02f4-4b17-a347-90c9d70c145c",
   "metadata": {},
   "outputs": [
    {
     "data": {
      "text/plain": [
       "0     1.0\n",
       "1     2.0\n",
       "2    -5.0\n",
       "3     4.0\n",
       "4     0.0\n",
       "5     NaN\n",
       "6    -7.0\n",
       "7     9.0\n",
       "8    -3.0\n",
       "9    -3.0\n",
       "10    NaN\n",
       "dtype: float64"
      ]
     },
     "execution_count": 41,
     "metadata": {},
     "output_type": "execute_result"
    }
   ],
   "source": [
    "s"
   ]
  },
  {
   "cell_type": "code",
   "execution_count": null,
   "id": "e1abd449-fb04-4703-b98f-49ee93ca4388",
   "metadata": {},
   "outputs": [],
   "source": []
  }
 ],
 "metadata": {
  "kernelspec": {
   "display_name": "Python 3 (ipykernel)",
   "language": "python",
   "name": "python3"
  },
  "language_info": {
   "codemirror_mode": {
    "name": "ipython",
    "version": 3
   },
   "file_extension": ".py",
   "mimetype": "text/x-python",
   "name": "python",
   "nbconvert_exporter": "python",
   "pygments_lexer": "ipython3",
   "version": "3.10.9"
  }
 },
 "nbformat": 4,
 "nbformat_minor": 5
}
