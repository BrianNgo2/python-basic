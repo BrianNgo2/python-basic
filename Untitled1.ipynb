{
 "cells": [
  {
   "cell_type": "code",
   "execution_count": 1,
   "id": "41316c1f-1db4-4ff3-aacb-9b6be24fdd39",
   "metadata": {},
   "outputs": [],
   "source": [
    "import pandas as pd\n",
    "df=pd.read_excel(\"data/invoice_2011_07.xlsx\")"
   ]
  },
  {
   "cell_type": "code",
   "execution_count": 2,
   "id": "a1b5e4f4-8184-4436-af99-ac31eb60031f",
   "metadata": {},
   "outputs": [
    {
     "data": {
      "text/html": [
       "<div>\n",
       "<style scoped>\n",
       "    .dataframe tbody tr th:only-of-type {\n",
       "        vertical-align: middle;\n",
       "    }\n",
       "\n",
       "    .dataframe tbody tr th {\n",
       "        vertical-align: top;\n",
       "    }\n",
       "\n",
       "    .dataframe thead th {\n",
       "        text-align: right;\n",
       "    }\n",
       "</style>\n",
       "<table border=\"1\" class=\"dataframe\">\n",
       "  <thead>\n",
       "    <tr style=\"text-align: right;\">\n",
       "      <th></th>\n",
       "      <th>InvoiceNo</th>\n",
       "      <th>StockCode</th>\n",
       "      <th>Description</th>\n",
       "      <th>Quantity</th>\n",
       "      <th>InvoiceDate</th>\n",
       "      <th>UnitPrice</th>\n",
       "      <th>CustomerID</th>\n",
       "      <th>Country</th>\n",
       "    </tr>\n",
       "  </thead>\n",
       "  <tbody>\n",
       "    <tr>\n",
       "      <th>0</th>\n",
       "      <td>559518</td>\n",
       "      <td>21989</td>\n",
       "      <td>PACK OF 20 SKULL PAPER NAPKINS</td>\n",
       "      <td>6</td>\n",
       "      <td>07/08/2011 16:11</td>\n",
       "      <td>1.63</td>\n",
       "      <td>NaN</td>\n",
       "      <td>United Kingdom</td>\n",
       "    </tr>\n",
       "    <tr>\n",
       "      <th>1</th>\n",
       "      <td>559518</td>\n",
       "      <td>22055</td>\n",
       "      <td>MINI CAKE STAND  HANGING STRAWBERY</td>\n",
       "      <td>1</td>\n",
       "      <td>07/08/2011 16:11</td>\n",
       "      <td>3.29</td>\n",
       "      <td>NaN</td>\n",
       "      <td>United Kingdom</td>\n",
       "    </tr>\n",
       "    <tr>\n",
       "      <th>2</th>\n",
       "      <td>559518</td>\n",
       "      <td>22179</td>\n",
       "      <td>SET 10 NIGHT OWL LIGHTS</td>\n",
       "      <td>1</td>\n",
       "      <td>07/08/2011 16:11</td>\n",
       "      <td>13.29</td>\n",
       "      <td>NaN</td>\n",
       "      <td>United Kingdom</td>\n",
       "    </tr>\n",
       "    <tr>\n",
       "      <th>3</th>\n",
       "      <td>559518</td>\n",
       "      <td>22297</td>\n",
       "      <td>HEART IVORY TRELLIS SMALL</td>\n",
       "      <td>1</td>\n",
       "      <td>07/08/2011 16:11</td>\n",
       "      <td>2.46</td>\n",
       "      <td>NaN</td>\n",
       "      <td>United Kingdom</td>\n",
       "    </tr>\n",
       "    <tr>\n",
       "      <th>4</th>\n",
       "      <td>559518</td>\n",
       "      <td>22352</td>\n",
       "      <td>LUNCH BOX WITH CUTLERY RETROSPOT</td>\n",
       "      <td>1</td>\n",
       "      <td>07/08/2011 16:11</td>\n",
       "      <td>4.96</td>\n",
       "      <td>NaN</td>\n",
       "      <td>United Kingdom</td>\n",
       "    </tr>\n",
       "    <tr>\n",
       "      <th>...</th>\n",
       "      <td>...</td>\n",
       "      <td>...</td>\n",
       "      <td>...</td>\n",
       "      <td>...</td>\n",
       "      <td>...</td>\n",
       "      <td>...</td>\n",
       "      <td>...</td>\n",
       "      <td>...</td>\n",
       "    </tr>\n",
       "    <tr>\n",
       "      <th>28216</th>\n",
       "      <td>561903</td>\n",
       "      <td>21900</td>\n",
       "      <td>KEY FOB , SHED</td>\n",
       "      <td>24</td>\n",
       "      <td>7/31/2011 16:04</td>\n",
       "      <td>0.65</td>\n",
       "      <td>17162.0</td>\n",
       "      <td>United Kingdom</td>\n",
       "    </tr>\n",
       "    <tr>\n",
       "      <th>28217</th>\n",
       "      <td>561903</td>\n",
       "      <td>48187</td>\n",
       "      <td>DOORMAT NEW ENGLAND</td>\n",
       "      <td>2</td>\n",
       "      <td>7/31/2011 16:04</td>\n",
       "      <td>7.95</td>\n",
       "      <td>17162.0</td>\n",
       "      <td>United Kingdom</td>\n",
       "    </tr>\n",
       "    <tr>\n",
       "      <th>28218</th>\n",
       "      <td>561903</td>\n",
       "      <td>85152</td>\n",
       "      <td>HAND OVER THE CHOCOLATE   SIGN</td>\n",
       "      <td>12</td>\n",
       "      <td>7/31/2011 16:04</td>\n",
       "      <td>2.10</td>\n",
       "      <td>17162.0</td>\n",
       "      <td>United Kingdom</td>\n",
       "    </tr>\n",
       "    <tr>\n",
       "      <th>28219</th>\n",
       "      <td>561903</td>\n",
       "      <td>82600</td>\n",
       "      <td>NO SINGING METAL SIGN</td>\n",
       "      <td>12</td>\n",
       "      <td>7/31/2011 16:04</td>\n",
       "      <td>2.10</td>\n",
       "      <td>17162.0</td>\n",
       "      <td>United Kingdom</td>\n",
       "    </tr>\n",
       "    <tr>\n",
       "      <th>28220</th>\n",
       "      <td>561903</td>\n",
       "      <td>21175</td>\n",
       "      <td>GIN + TONIC DIET METAL SIGN</td>\n",
       "      <td>12</td>\n",
       "      <td>7/31/2011 16:04</td>\n",
       "      <td>2.55</td>\n",
       "      <td>17162.0</td>\n",
       "      <td>United Kingdom</td>\n",
       "    </tr>\n",
       "  </tbody>\n",
       "</table>\n",
       "<p>28221 rows × 8 columns</p>\n",
       "</div>"
      ],
      "text/plain": [
       "      InvoiceNo StockCode                         Description  Quantity  \\\n",
       "0        559518     21989      PACK OF 20 SKULL PAPER NAPKINS         6   \n",
       "1        559518     22055  MINI CAKE STAND  HANGING STRAWBERY         1   \n",
       "2        559518     22179             SET 10 NIGHT OWL LIGHTS         1   \n",
       "3        559518     22297           HEART IVORY TRELLIS SMALL         1   \n",
       "4        559518     22352   LUNCH BOX WITH CUTLERY RETROSPOT          1   \n",
       "...         ...       ...                                 ...       ...   \n",
       "28216    561903     21900                      KEY FOB , SHED        24   \n",
       "28217    561903     48187                 DOORMAT NEW ENGLAND         2   \n",
       "28218    561903     85152     HAND OVER THE CHOCOLATE   SIGN         12   \n",
       "28219    561903     82600               NO SINGING METAL SIGN        12   \n",
       "28220    561903     21175         GIN + TONIC DIET METAL SIGN        12   \n",
       "\n",
       "            InvoiceDate  UnitPrice  CustomerID         Country  \n",
       "0      07/08/2011 16:11       1.63         NaN  United Kingdom  \n",
       "1      07/08/2011 16:11       3.29         NaN  United Kingdom  \n",
       "2      07/08/2011 16:11      13.29         NaN  United Kingdom  \n",
       "3      07/08/2011 16:11       2.46         NaN  United Kingdom  \n",
       "4      07/08/2011 16:11       4.96         NaN  United Kingdom  \n",
       "...                 ...        ...         ...             ...  \n",
       "28216   7/31/2011 16:04       0.65     17162.0  United Kingdom  \n",
       "28217   7/31/2011 16:04       7.95     17162.0  United Kingdom  \n",
       "28218   7/31/2011 16:04       2.10     17162.0  United Kingdom  \n",
       "28219   7/31/2011 16:04       2.10     17162.0  United Kingdom  \n",
       "28220   7/31/2011 16:04       2.55     17162.0  United Kingdom  \n",
       "\n",
       "[28221 rows x 8 columns]"
      ]
     },
     "execution_count": 2,
     "metadata": {},
     "output_type": "execute_result"
    }
   ],
   "source": [
    "df"
   ]
  },
  {
   "cell_type": "code",
   "execution_count": 7,
   "id": "503bd104-a117-4ce9-a9a9-0eda6df02520",
   "metadata": {},
   "outputs": [
    {
     "data": {
      "text/plain": [
       "(28221, 8)"
      ]
     },
     "execution_count": 7,
     "metadata": {},
     "output_type": "execute_result"
    }
   ],
   "source": [
    "df.shape"
   ]
  },
  {
   "cell_type": "code",
   "execution_count": 8,
   "id": "f2c058fa-ae82-4b47-8ca6-ba64a6ff6458",
   "metadata": {},
   "outputs": [
    {
     "data": {
      "text/plain": [
       "28221"
      ]
     },
     "execution_count": 8,
     "metadata": {},
     "output_type": "execute_result"
    }
   ],
   "source": [
    "df.shape[0]"
   ]
  },
  {
   "cell_type": "code",
   "execution_count": 9,
   "id": "223f9db3-d8c2-4a23-87bb-a18282ef53fa",
   "metadata": {},
   "outputs": [
    {
     "data": {
      "text/plain": [
       "8"
      ]
     },
     "execution_count": 9,
     "metadata": {},
     "output_type": "execute_result"
    }
   ],
   "source": [
    "df.shape[1]"
   ]
  },
  {
   "cell_type": "code",
   "execution_count": 11,
   "id": "1624a4b4-fb05-4c7a-861f-ec6c7aa3cc13",
   "metadata": {},
   "outputs": [
    {
     "data": {
      "text/plain": [
       "InvoiceNo       object\n",
       "StockCode       object\n",
       "Description     object\n",
       "Quantity         int64\n",
       "InvoiceDate     object\n",
       "UnitPrice      float64\n",
       "CustomerID     float64\n",
       "Country         object\n",
       "dtype: object"
      ]
     },
     "execution_count": 11,
     "metadata": {},
     "output_type": "execute_result"
    }
   ],
   "source": [
    "df.dtypes"
   ]
  },
  {
   "cell_type": "code",
   "execution_count": 14,
   "id": "a00fad13-311e-47e1-ba9c-00caeac4f077",
   "metadata": {},
   "outputs": [
    {
     "data": {
      "text/plain": [
       "Index(['InvoiceNo', 'StockCode', 'Description', 'Quantity', 'InvoiceDate',\n",
       "       'UnitPrice', 'CustomerID', 'Country'],\n",
       "      dtype='object')"
      ]
     },
     "execution_count": 14,
     "metadata": {},
     "output_type": "execute_result"
    }
   ],
   "source": [
    "df.columns"
   ]
  }
 ],
 "metadata": {
  "kernelspec": {
   "display_name": "Python 3 (ipykernel)",
   "language": "python",
   "name": "python3"
  },
  "language_info": {
   "codemirror_mode": {
    "name": "ipython",
    "version": 3
   },
   "file_extension": ".py",
   "mimetype": "text/x-python",
   "name": "python",
   "nbconvert_exporter": "python",
   "pygments_lexer": "ipython3",
   "version": "3.10.9"
  }
 },
 "nbformat": 4,
 "nbformat_minor": 5
}
